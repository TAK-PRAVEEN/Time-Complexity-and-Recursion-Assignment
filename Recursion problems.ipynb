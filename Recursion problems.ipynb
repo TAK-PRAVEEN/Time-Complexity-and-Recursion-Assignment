{
 "cells": [
  {
   "cell_type": "markdown",
   "metadata": {},
   "source": [
    "### **Solve the following problems on recursion**"
   ]
  },
  {
   "cell_type": "markdown",
   "metadata": {},
   "source": [
    "#### Problem 6 : Sum of Digits"
   ]
  },
  {
   "cell_type": "markdown",
   "metadata": {},
   "source": [
    "Write a recursive function to calculate the sum of digits of a given positive integer.\n",
    "\n",
    "sum_of_digits(123) -> 6"
   ]
  },
  {
   "cell_type": "code",
   "execution_count": 1,
   "metadata": {},
   "outputs": [
    {
     "name": "stdout",
     "output_type": "stream",
     "text": [
      "Sum of digits in 123 is 6\n"
     ]
    }
   ],
   "source": [
    "def sum_of_digits(n):\n",
    "    if n < 10:\n",
    "        return n\n",
    "    else:\n",
    "        last_digit = n % 10\n",
    "        remaining_sum = sum_of_digits(n // 10)\n",
    "        return last_digit + remaining_sum\n",
    "\n",
    "positive_integer = 123\n",
    "print(f\"Sum of digits in {positive_integer} is {sum_of_digits(positive_integer)}\")"
   ]
  },
  {
   "cell_type": "markdown",
   "metadata": {},
   "source": [
    "#### Problem 7: Fibonacci Series"
   ]
  },
  {
   "cell_type": "markdown",
   "metadata": {},
   "source": [
    "Write a recursive function to generate the first n numbers of the Fibonacci series.\n",
    "\n",
    "fibonacci_series(6) -> [0, 1, 1, 2, 3, 5]"
   ]
  },
  {
   "cell_type": "code",
   "execution_count": 17,
   "metadata": {},
   "outputs": [
    {
     "name": "stdout",
     "output_type": "stream",
     "text": [
      "Fibonacci sequence: [0, 1, 1, 2, 3, 5]\n"
     ]
    }
   ],
   "source": [
    "n = 6\n",
    "def fibonacci_series(n):\n",
    "    fib_sequence = [0, 1]\n",
    "    for i in range(2, n):\n",
    "        next_fib = fib_sequence[-1] + fib_sequence[-2]\n",
    "        fib_sequence.append(next_fib)\n",
    "    return fib_sequence\n",
    "print(\"Fibonacci sequence:\", fibonacci_series(n))"
   ]
  },
  {
   "cell_type": "markdown",
   "metadata": {},
   "source": [
    "#### Problem 8 : Subset Sum"
   ]
  },
  {
   "cell_type": "markdown",
   "metadata": {},
   "source": [
    "Given a set of positive integers and a target sum, write a recursive function to determine if there exists a subset\n",
    "of the integers that adds up to the target sum.\n",
    "\n",
    "subset_sum([3, 34, 4, 12, 5, 2], 9) -> True"
   ]
  },
  {
   "cell_type": "code",
   "execution_count": 24,
   "metadata": {},
   "outputs": [
    {
     "name": "stdout",
     "output_type": "stream",
     "text": [
      "True\n"
     ]
    }
   ],
   "source": [
    "def subset_sum(nums, target_sum, index=0):\n",
    "    # Base case: If the target sum is zero, we found a subset\n",
    "    if target_sum == 0:\n",
    "        return True\n",
    "    # Base case: If we've exhausted all integers or target sum is negative\n",
    "    if index >= len(nums) or target_sum < 0:\n",
    "        return False\n",
    "\n",
    "    # Two choices: include or exclude the current integer\n",
    "    include_current = subset_sum(nums, target_sum - nums[index], index + 1)\n",
    "    exclude_current = subset_sum(nums, target_sum, index + 1)\n",
    "\n",
    "    # Return True if either choice leads to a valid subset\n",
    "    return include_current or exclude_current\n",
    "\n",
    "# Example usage:\n",
    "positive_integers = [3, 34, 4, 12, 5, 2]\n",
    "target = 9\n",
    "result = subset_sum(positive_integers, target)\n",
    "\n",
    "if result:\n",
    "    print(True)\n",
    "else:\n",
    "    print(False)\n"
   ]
  },
  {
   "cell_type": "markdown",
   "metadata": {},
   "source": [
    "#### Problem 9: Word Break"
   ]
  },
  {
   "cell_type": "markdown",
   "metadata": {},
   "source": [
    "Given a non-empty string and a dictionary of words, write a recursive function to determine if the string can be\n",
    "segmented into a space-separated sequence of dictionary words.\n",
    "\n",
    "word_break( leetcode , [ leet , code ]) -> True"
   ]
  },
  {
   "cell_type": "code",
   "execution_count": 23,
   "metadata": {},
   "outputs": [
    {
     "name": "stdout",
     "output_type": "stream",
     "text": [
      "True\n"
     ]
    }
   ],
   "source": [
    "def can_segment_string(s, word_dict):\n",
    "    if not s:\n",
    "        return True  # Base case: empty string is already segmented\n",
    "\n",
    "    for i in range(1, len(s) + 1):\n",
    "        prefix = s[:i]\n",
    "        if prefix in word_dict:\n",
    "            # Recur on the remaining part of the string\n",
    "            if can_segment_string(s[i:], word_dict):\n",
    "                return True\n",
    "\n",
    "    # No valid segmentation found\n",
    "    return False\n",
    "\n",
    "# Example usage:\n",
    "dictionary = {\"leet\", \"code\"}\n",
    "input_string = \"leetcode\"\n",
    "result = can_segment_string(input_string, dictionary)\n",
    "\n",
    "if result:\n",
    "    print(True)\n",
    "else:\n",
    "    print(False)\n"
   ]
  },
  {
   "cell_type": "markdown",
   "metadata": {},
   "source": [
    "#### Problem 10 : N-Queens"
   ]
  },
  {
   "cell_type": "code",
   "execution_count": null,
   "metadata": {},
   "outputs": [],
   "source": [
    "Implement a recursive function to solve the N Queens problem, where you have to place N queens on an N×N\n",
    "chessboard in such a way that no two queens threaten each other.\n",
    "\n",
    "n_queens(4)\n",
    "[\n",
    "[\".Q..\",\n",
    "\"...Q\",\n",
    "\"Q...\",\n",
    "\"..Q.\"],\n",
    "[\"..Q.\",\n",
    "\"Q...\",\n",
    "\"...Q\",\n",
    "\".Q..\"]\n",
    "]"
   ]
  },
  {
   "cell_type": "code",
   "execution_count": 48,
   "metadata": {},
   "outputs": [
    {
     "name": "stdout",
     "output_type": "stream",
     "text": [
      "Found 8 distinct solutions for 4 Queens:\n",
      ".Q..\n",
      "...Q\n",
      "Q...\n",
      "..Q.\n",
      "..Q.\n",
      "Q...\n",
      "...Q\n",
      ".Q..\n"
     ]
    }
   ],
   "source": [
    "def is_safe(board, row, col, n):\n",
    "    # Check if a queen can be placed at (row, col) without conflicts\n",
    "    # Check row and column\n",
    "    for i in range(row):\n",
    "        if board[i][col] == \"Q\":\n",
    "            return False\n",
    "    # Check upper left diagonal\n",
    "    for i, j in zip(range(row, -1, -1), range(col, -1, -1)):\n",
    "        if board[i][j] == \"Q\":\n",
    "            return False\n",
    "    # Check upper right diagonal\n",
    "    for i, j in zip(range(row, -1, -1), range(col, n)):\n",
    "        if board[i][j] == \"Q\":\n",
    "            return False\n",
    "    return True\n",
    "\n",
    "def solve_n_queens_util(board, row, n):\n",
    "    if row == n:\n",
    "        # All queens placed successfully\n",
    "        return [list(row) for row in board]\n",
    "\n",
    "    solutions = []\n",
    "    for col in range(n):\n",
    "        if is_safe(board, row, col, n):\n",
    "            board[row][col] = \"Q\"\n",
    "            solutions.extend(solve_n_queens_util(board, row + 1, n))\n",
    "            board[row][col] = \".\"  # Backtrack\n",
    "    string = [\"\".join(i) for i in solutions]\n",
    "    return string\n",
    "\n",
    "def solve_n_queens(n):\n",
    "    # Initialize an empty N×N board\n",
    "    board = [[\".\"] * n for _ in range(n)]\n",
    "    return solve_n_queens_util(board, 0, n)\n",
    "\n",
    "# Example usage:\n",
    "n_queens_solutions = solve_n_queens(4)  # Solve for N=4\n",
    "print(f\"Found {len(n_queens_solutions)} distinct solutions for 4 Queens:\")\n",
    "for solution in n_queens_solutions:\n",
    "    print(solution)\n"
   ]
  }
 ],
 "metadata": {
  "kernelspec": {
   "display_name": "ML",
   "language": "python",
   "name": "python3"
  },
  "language_info": {
   "codemirror_mode": {
    "name": "ipython",
    "version": 3
   },
   "file_extension": ".py",
   "mimetype": "text/x-python",
   "name": "python",
   "nbconvert_exporter": "python",
   "pygments_lexer": "ipython3",
   "version": "3.12.4"
  }
 },
 "nbformat": 4,
 "nbformat_minor": 2
}
